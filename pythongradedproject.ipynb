{
 "cells": [
  {
   "cell_type": "markdown",
   "id": "f1c41b92",
   "metadata": {},
   "source": [
    "# Assignment - Analyzing Historical Stock/Revenue Data and Building Dashboard\n",
    " by Camille F. "
   ]
  },
  {
   "cell_type": "markdown",
   "id": "40cc7c98",
   "metadata": {},
   "source": [
    "This program has the following objectives:\n",
    "1. Extracting Tesla Stock Data using Yahoo Finance \n",
    "2. Extracting Tesla Stock Data using Webscrapping\n",
    "3. Extracting GameStop Data using Yahoo Finance \n",
    "4. Extracting GameStop Data using Webscrapping \n",
    "5. Tesla Stock and Revenue Dashboard\n",
    "6. GameStop and Revenue Dashboard \n",
    "7. Sharing the assignment notebook"
   ]
  },
  {
   "cell_type": "markdown",
   "id": "c5119db7",
   "metadata": {},
   "source": [
    "### Part 1 - Extracting Tesla Stock Data using Yahoo Finance "
   ]
  },
  {
   "cell_type": "markdown",
   "id": "a5b8674f",
   "metadata": {},
   "source": [
    "First install and import modules"
   ]
  },
  {
   "cell_type": "code",
   "execution_count": 4,
   "id": "000aa6f4",
   "metadata": {
    "scrolled": true
   },
   "outputs": [
    {
     "name": "stdout",
     "output_type": "stream",
     "text": [
      "Defaulting to user installation because normal site-packages is not writeable\n",
      "Requirement already satisfied: yfinance==0.2.4 in c:\\users\\farrca\\appdata\\roaming\\python\\python310\\site-packages (0.2.4)\n",
      "Requirement already satisfied: cryptography>=3.3.2 in c:\\programdata\\anaconda3\\lib\\site-packages (from yfinance==0.2.4) (39.0.1)\n",
      "Requirement already satisfied: frozendict>=2.3.4 in c:\\users\\farrca\\appdata\\roaming\\python\\python310\\site-packages (from yfinance==0.2.4) (2.4.0)\n",
      "Requirement already satisfied: beautifulsoup4>=4.11.1 in c:\\programdata\\anaconda3\\lib\\site-packages (from yfinance==0.2.4) (4.11.1)\n",
      "Requirement already satisfied: numpy>=1.16.5 in c:\\programdata\\anaconda3\\lib\\site-packages (from yfinance==0.2.4) (1.23.5)\n",
      "Requirement already satisfied: lxml>=4.9.1 in c:\\programdata\\anaconda3\\lib\\site-packages (from yfinance==0.2.4) (4.9.1)\n",
      "Requirement already satisfied: html5lib>=1.1 in c:\\users\\farrca\\appdata\\roaming\\python\\python310\\site-packages (from yfinance==0.2.4) (1.1)\n",
      "Requirement already satisfied: appdirs>=1.4.4 in c:\\programdata\\anaconda3\\lib\\site-packages (from yfinance==0.2.4) (1.4.4)\n",
      "Requirement already satisfied: requests>=2.26 in c:\\programdata\\anaconda3\\lib\\site-packages (from yfinance==0.2.4) (2.28.1)\n",
      "Requirement already satisfied: multitasking>=0.0.7 in c:\\users\\farrca\\appdata\\roaming\\python\\python310\\site-packages (from yfinance==0.2.4) (0.0.11)\n",
      "Requirement already satisfied: pytz>=2022.5 in c:\\programdata\\anaconda3\\lib\\site-packages (from yfinance==0.2.4) (2022.7)\n",
      "Requirement already satisfied: pandas>=1.3.0 in c:\\programdata\\anaconda3\\lib\\site-packages (from yfinance==0.2.4) (1.5.3)\n",
      "Requirement already satisfied: soupsieve>1.2 in c:\\programdata\\anaconda3\\lib\\site-packages (from beautifulsoup4>=4.11.1->yfinance==0.2.4) (2.3.2.post1)\n",
      "Requirement already satisfied: cffi>=1.12 in c:\\programdata\\anaconda3\\lib\\site-packages (from cryptography>=3.3.2->yfinance==0.2.4) (1.15.1)\n",
      "Requirement already satisfied: six>=1.9 in c:\\programdata\\anaconda3\\lib\\site-packages (from html5lib>=1.1->yfinance==0.2.4) (1.16.0)\n",
      "Requirement already satisfied: webencodings in c:\\programdata\\anaconda3\\lib\\site-packages (from html5lib>=1.1->yfinance==0.2.4) (0.5.1)\n",
      "Requirement already satisfied: python-dateutil>=2.8.1 in c:\\programdata\\anaconda3\\lib\\site-packages (from pandas>=1.3.0->yfinance==0.2.4) (2.8.2)\n",
      "Requirement already satisfied: charset-normalizer<3,>=2 in c:\\programdata\\anaconda3\\lib\\site-packages (from requests>=2.26->yfinance==0.2.4) (2.0.4)\n",
      "Requirement already satisfied: idna<4,>=2.5 in c:\\programdata\\anaconda3\\lib\\site-packages (from requests>=2.26->yfinance==0.2.4) (3.4)\n",
      "Requirement already satisfied: urllib3<1.27,>=1.21.1 in c:\\programdata\\anaconda3\\lib\\site-packages (from requests>=2.26->yfinance==0.2.4) (1.26.14)\n",
      "Requirement already satisfied: certifi>=2017.4.17 in c:\\programdata\\anaconda3\\lib\\site-packages (from requests>=2.26->yfinance==0.2.4) (2022.12.7)\n",
      "Requirement already satisfied: pycparser in c:\\programdata\\anaconda3\\lib\\site-packages (from cffi>=1.12->cryptography>=3.3.2->yfinance==0.2.4) (2.21)\n"
     ]
    }
   ],
   "source": [
    "!pip install yfinance==0.2.4"
   ]
  },
  {
   "cell_type": "code",
   "execution_count": 5,
   "id": "6c5c69c4",
   "metadata": {},
   "outputs": [
    {
     "ename": "ModuleNotFoundError",
     "evalue": "No module named 'yfinance'",
     "output_type": "error",
     "traceback": [
      "\u001b[1;31m---------------------------------------------------------------------------\u001b[0m",
      "\u001b[1;31mModuleNotFoundError\u001b[0m                       Traceback (most recent call last)",
      "Cell \u001b[1;32mIn[5], line 1\u001b[0m\n\u001b[1;32m----> 1\u001b[0m \u001b[38;5;28;01mimport\u001b[39;00m \u001b[38;5;21;01myfinance\u001b[39;00m \u001b[38;5;28;01mas\u001b[39;00m \u001b[38;5;21;01myf\u001b[39;00m\n\u001b[0;32m      2\u001b[0m \u001b[38;5;28;01mimport\u001b[39;00m \u001b[38;5;21;01mpandas\u001b[39;00m \u001b[38;5;28;01mas\u001b[39;00m \u001b[38;5;21;01mpd\u001b[39;00m\n",
      "\u001b[1;31mModuleNotFoundError\u001b[0m: No module named 'yfinance'"
     ]
    }
   ],
   "source": [
    "import yfinance as yf\n",
    "import pandas as pd"
   ]
  },
  {
   "cell_type": "markdown",
   "id": "313ea8c0",
   "metadata": {},
   "source": [
    "Extract TSLA ticker from Yahoo Finance as such:"
   ]
  },
  {
   "cell_type": "code",
   "execution_count": 6,
   "id": "32f6c468",
   "metadata": {},
   "outputs": [
    {
     "ename": "NameError",
     "evalue": "name 'yf' is not defined",
     "output_type": "error",
     "traceback": [
      "\u001b[1;31m---------------------------------------------------------------------------\u001b[0m",
      "\u001b[1;31mNameError\u001b[0m                                 Traceback (most recent call last)",
      "Cell \u001b[1;32mIn[6], line 1\u001b[0m\n\u001b[1;32m----> 1\u001b[0m tsla \u001b[38;5;241m=\u001b[39m \u001b[43myf\u001b[49m\u001b[38;5;241m.\u001b[39mTicker(\u001b[38;5;124m\"\u001b[39m\u001b[38;5;124mTSLA\u001b[39m\u001b[38;5;124m\"\u001b[39m)\n",
      "\u001b[1;31mNameError\u001b[0m: name 'yf' is not defined"
     ]
    }
   ],
   "source": [
    "tsla = yf.Ticker(\"TSLA\")"
   ]
  },
  {
   "cell_type": "code",
   "execution_count": null,
   "id": "03ec2a3f",
   "metadata": {},
   "outputs": [],
   "source": []
  }
 ],
 "metadata": {
  "kernelspec": {
   "display_name": "Python 3 (ipykernel)",
   "language": "python",
   "name": "python3"
  },
  "language_info": {
   "codemirror_mode": {
    "name": "ipython",
    "version": 3
   },
   "file_extension": ".py",
   "mimetype": "text/x-python",
   "name": "python",
   "nbconvert_exporter": "python",
   "pygments_lexer": "ipython3",
   "version": "3.10.9"
  }
 },
 "nbformat": 4,
 "nbformat_minor": 5
}
