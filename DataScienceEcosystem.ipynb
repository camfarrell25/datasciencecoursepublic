{
 "cells": [
  {
   "cell_type": "markdown",
   "id": "700e7c25",
   "metadata": {},
   "source": [
    " # Data Science Tools and Ecosystem using H1 style heading"
   ]
  },
  {
   "cell_type": "markdown",
   "id": "c2e63921",
   "metadata": {},
   "source": [
    "## Author: \n",
    "Camille F. "
   ]
  },
  {
   "cell_type": "markdown",
   "id": "db090db6",
   "metadata": {},
   "source": [
    "**Objectives**: \n",
    "- List popular languages that are used by data scientists\n",
    "- List commonly used librairies\n",
    "- List some data science tools \n",
    "- Demonstrate how to perform simple arithmetic expressions in Python"
   ]
  },
  {
   "cell_type": "markdown",
   "id": "7c747ff1",
   "metadata": {},
   "source": [
    "In this notebook, Data Science Tools and Ecosystems are summarized"
   ]
  },
  {
   "cell_type": "markdown",
   "id": "664cbf97",
   "metadata": {},
   "source": [
    "Some of the popular languages that Data Scientist use are: "
   ]
  },
  {
   "cell_type": "markdown",
   "id": "4dbe923c",
   "metadata": {},
   "source": [
    "1) Python\n",
    "2) R\n",
    "3) Julia"
   ]
  },
  {
   "cell_type": "markdown",
   "id": "1644736b",
   "metadata": {},
   "source": [
    "Some of the commonly used librairies used by Data Scientists include:"
   ]
  },
  {
   "cell_type": "markdown",
   "id": "edd8f16d",
   "metadata": {},
   "source": [
    "1) matplotlib\n",
    "2) scikit-learn \n",
    "3) pandas\n",
    "4) tensorflow\n",
    "5) scipy\n",
    "6) numpy"
   ]
  },
  {
   "cell_type": "markdown",
   "id": "caec1b8f",
   "metadata": {},
   "source": [
    "| Data Science Tools | \n",
    "| --- | \n",
    "| Jupyter Lab |\n",
    "| Anaconda |\n",
    "| GitHub|\n",
    "| Google Collab |"
   ]
  },
  {
   "cell_type": "markdown",
   "id": "bc6bbd60",
   "metadata": {},
   "source": [
    "### Below are a few examples of evaluation arithmetic expressions in Python"
   ]
  },
  {
   "cell_type": "markdown",
   "id": "01b6d4cb",
   "metadata": {},
   "source": [
    "This is a simple arithmetic expression to multiply then add integers"
   ]
  },
  {
   "cell_type": "code",
   "execution_count": 2,
   "id": "b2b89558",
   "metadata": {},
   "outputs": [
    {
     "name": "stdout",
     "output_type": "stream",
     "text": [
      "17\n"
     ]
    }
   ],
   "source": [
    "print((3*4)+5)"
   ]
  },
  {
   "cell_type": "markdown",
   "id": "984194b3",
   "metadata": {},
   "source": [
    "This command will convert 200 minutes into hours by dividing by 60"
   ]
  },
  {
   "cell_type": "code",
   "execution_count": 3,
   "id": "ff4beaf5",
   "metadata": {},
   "outputs": [
    {
     "name": "stdout",
     "output_type": "stream",
     "text": [
      "3.3333333333333335\n"
     ]
    }
   ],
   "source": [
    "print(200/60)"
   ]
  },
  {
   "cell_type": "code",
   "execution_count": null,
   "id": "fbd5bbe6",
   "metadata": {},
   "outputs": [],
   "source": []
  }
 ],
 "metadata": {
  "kernelspec": {
   "display_name": "Python 3 (ipykernel)",
   "language": "python",
   "name": "python3"
  },
  "language_info": {
   "codemirror_mode": {
    "name": "ipython",
    "version": 3
   },
   "file_extension": ".py",
   "mimetype": "text/x-python",
   "name": "python",
   "nbconvert_exporter": "python",
   "pygments_lexer": "ipython3",
   "version": "3.10.9"
  }
 },
 "nbformat": 4,
 "nbformat_minor": 5
}
